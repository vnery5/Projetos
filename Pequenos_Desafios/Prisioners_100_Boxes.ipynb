{
 "cells": [
  {
   "cell_type": "markdown",
   "metadata": {},
   "source": [
    "# The 100 Box Problem\n",
    "\n",
    "The objective of this notebook is to code the 100 box problem.\n",
    "\n",
    "If you are unfamiliar with it, check [Veritasium's awesome video](https://www.youtube.com/watch?v=iSNsgj1OCLA) about it."
   ]
  },
  {
   "cell_type": "code",
   "execution_count": 1,
   "metadata": {},
   "outputs": [],
   "source": [
    "# Importing\n",
    "import random\n",
    "import matplotlib.pyplot as plt\n",
    "from collections import Counter"
   ]
  },
  {
   "cell_type": "code",
   "execution_count": 2,
   "metadata": {},
   "outputs": [],
   "source": [
    "# Defining number of prisioners\n",
    "num_prisioners = 100\n",
    "\n",
    "prisioner_numbers = [i for i in range(num_prisioners)]\n",
    "box_numbers = [i for i in range(num_prisioners)]\n",
    "slip_numbers = [i for i in range(num_prisioners)]"
   ]
  },
  {
   "cell_type": "markdown",
   "metadata": {},
   "source": [
    "## Random Box Checks\n",
    "\n",
    "Each prisioner checks boxes at random."
   ]
  },
  {
   "cell_type": "code",
   "execution_count": 3,
   "metadata": {},
   "outputs": [],
   "source": [
    "# Box process\n",
    "def random_box_checks(prisioner_numbers, box_numbers, slip_numbers, num_prisioners):\n",
    "    # Creating lists\n",
    "    prisioner_numbers = [i for i in range(num_prisioners)]\n",
    "    box_numbers = [i for i in range(num_prisioners)]\n",
    "    slip_numbers = [i for i in range(num_prisioners)]\n",
    "    random.shuffle(slip_numbers)\n",
    "    \n",
    "    # Defining auxiliary variables\n",
    "    max_box_checks = int(num_prisioners / 2)\n",
    "    numbers_found = []\n",
    "\n",
    "    # Loop\n",
    "    for prisioner in prisioner_numbers:\n",
    "        for check in range(max_box_checks):\n",
    "            box = random.randrange(num_prisioners)\n",
    "            slip = slip_numbers[box]\n",
    "            if slip == prisioner:\n",
    "                numbers_found.append(prisioner)\n",
    "    \n",
    "    # Returning\n",
    "    return(len(numbers_found))"
   ]
  },
  {
   "cell_type": "code",
   "execution_count": 4,
   "metadata": {},
   "outputs": [
    {
     "name": "stdout",
     "output_type": "stream",
     "text": [
      "The maximum number of prisioners escaped at once was 77.\n",
      "It happened 2 time(s).\n",
      "All prisioners escaped 0.0% of the time.\n"
     ]
    },
    {
     "data": {
      "image/png": "[encoded data removed]",
      "text/plain": [
       "<Figure size 432x288 with 1 Axes>"
      ]
     },
     "metadata": {
      "needs_background": "light"
     },
     "output_type": "display_data"
    }
   ],
   "source": [
    "# Running tests\n",
    "num_iterations = 10**4\n",
    "num_prisioners_found = []\n",
    "\n",
    "for iteration in range(num_iterations):\n",
    "    num_prisioners_found.append(random_box_checks(prisioner_numbers, box_numbers, slip_numbers, num_prisioners))\n",
    "\n",
    "# Number of times all prisioners escaped\n",
    "## Variables\n",
    "max_num_prisioners_found = max(num_prisioners_found)\n",
    "count = Counter(num_prisioners_found)\n",
    "\n",
    "## Prints\n",
    "print(f\"The maximum number of prisioners escaped at once was {max_num_prisioners_found}.\")\n",
    "print(f\"It happened {count[max_num_prisioners_found]} time(s).\")\n",
    "print(f\"All prisioners escaped {round(100*count[num_prisioners] / num_iterations, 1)}% of the time.\")\n",
    "\n",
    "# Plotting\n",
    "plt.hist(num_prisioners_found, density=False, bins=30)\n",
    "plt.ylabel('#')\n",
    "plt.xlabel('Prisioners with numbers found');"
   ]
  },
  {
   "cell_type": "markdown",
   "metadata": {},
   "source": [
    "## Loop Box Checks\n",
    "\n",
    "Instead of picking at random, each prisioner starts at the box with their own number and follows the slip of each box."
   ]
  },
  {
   "cell_type": "code",
   "execution_count": 5,
   "metadata": {},
   "outputs": [],
   "source": [
    "# Box process\n",
    "def loop_box_checks(num_prisioners):\n",
    "    # Defining lists\n",
    "    prisioner_numbers = [i for i in range(num_prisioners)]\n",
    "    box_numbers = [i for i in range(num_prisioners)]\n",
    "    slip_numbers = [i for i in range(num_prisioners)]\n",
    "    random.shuffle(slip_numbers)\n",
    "    \n",
    "    # Defining auxiliary variables\n",
    "    max_box_checks = int(num_prisioners / 2)\n",
    "    numbers_found = []\n",
    "\n",
    "    # Loop\n",
    "    for prisioner in prisioner_numbers:\n",
    "        for check in range(max_box_checks):\n",
    "            box = box_numbers[prisioner] if check == 0 else slip\n",
    "            slip = slip_numbers[box]\n",
    "            if slip == prisioner:\n",
    "                numbers_found.append(prisioner)\n",
    "                break\n",
    "    \n",
    "    # Returning\n",
    "    return(len(numbers_found))"
   ]
  },
  {
   "cell_type": "code",
   "execution_count": 6,
   "metadata": {},
   "outputs": [
    {
     "name": "stdout",
     "output_type": "stream",
     "text": [
      "The maximum number of prisioners escaped at once was 100.\n",
      "It happened 3142 times.\n",
      "All prisioners escaped 31.4% of the time!\n"
     ]
    },
    {
     "data": {
      "image/png": "[encoded data removed]",
      "text/plain": [
       "<Figure size 432x288 with 1 Axes>"
      ]
     },
     "metadata": {
      "needs_background": "light"
     },
     "output_type": "display_data"
    }
   ],
   "source": [
    "# Running tests\n",
    "num_iterations_loop = 10**4\n",
    "num_prisioners_found_loop = []\n",
    "\n",
    "for iteration in range(num_iterations_loop):\n",
    "    num_prisioners_found_loop.append(loop_box_checks(num_prisioners))\n",
    "\n",
    "# Number of times all prisioners escaped\n",
    "## Variables\n",
    "max_num_prisioners_found_loop = max(num_prisioners_found_loop)\n",
    "count_loop = Counter(num_prisioners_found_loop)\n",
    "\n",
    "## Prints\n",
    "print(f\"The maximum number of prisioners escaped at once was {max_num_prisioners_found_loop}.\")\n",
    "print(f\"It happened {count_loop[max_num_prisioners_found_loop]} times.\")\n",
    "print(f\"All prisioners escaped {round(100*count_loop[num_prisioners] / num_iterations_loop, 1)}% of the time!\")\n",
    "\n",
    "# Plotting\n",
    "plt.hist(num_prisioners_found_loop, density=False, bins=30)\n",
    "plt.ylabel('#')\n",
    "plt.xlabel('Prisioners with numbers found')\n",
    "plt.xticks([i for i in range(0, num_prisioners, 10)]);"
   ]
  }
 ],
 "metadata": {
  "interpreter": {
   "hash": "848214357bf3b2960687d4b41186e6e1c0576c7522e2f40aa587783d6a0a2824"
  },
  "kernelspec": {
   "display_name": "Python 3.9.7 ('datascience')",
   "language": "python",
   "name": "python3"
  },
  "language_info": {
   "codemirror_mode": {
    "name": "ipython",
    "version": 3
   },
   "file_extension": ".py",
   "mimetype": "text/x-python",
   "name": "python",
   "nbconvert_exporter": "python",
   "pygments_lexer": "ipython3",
   "version": "3.9.7"
  },
  "orig_nbformat": 4
 },
 "nbformat": 4,
 "nbformat_minor": 2
}
