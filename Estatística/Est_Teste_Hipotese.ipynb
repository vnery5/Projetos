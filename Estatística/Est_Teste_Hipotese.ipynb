{
 "cells": [
  {
   "attachments": {},
   "cell_type": "markdown",
   "metadata": {},
   "source": [
    "# Testes de Hipótese\n",
    "\n",
    "O objetivo desse notebook é ajudar no cálculo e na visualização de testes de hipótese da média"
   ]
  },
  {
   "attachments": {},
   "cell_type": "markdown",
   "metadata": {},
   "source": [
    "## Setup"
   ]
  },
  {
   "cell_type": "code",
   "execution_count": 1,
   "metadata": {},
   "outputs": [],
   "source": [
    "## Importando módulos\n",
    "# Análise\n",
    "import numpy as np\n",
    "import random\n",
    "import scipy.stats as stats\n",
    "import math\n",
    "\n",
    "# Visualização\n",
    "import matplotlib as mpl\n",
    "import matplotlib.pyplot as plt"
   ]
  },
  {
   "cell_type": "code",
   "execution_count": 2,
   "metadata": {},
   "outputs": [],
   "source": [
    "# Estilos dos gráficos\n",
    "from matplotlib import style\n",
    "style.use('ggplot')"
   ]
  },
  {
   "cell_type": "code",
   "execution_count": 98,
   "metadata": {},
   "outputs": [],
   "source": [
    "def hypothesis_test(nSampleMean: float, nPopulationMean: float, \n",
    "                    nVariance: float, nSampleSize: int,\n",
    "                    bKnownVariance=False, sType='two-sided', nSignificance=.05):\n",
    "    \"\"\"\n",
    "    Does a hypothesis test of the sample mean in order to infer something about the population value.\n",
    "    Specifically, in the case of a two-sided test, it returns Pr(|t| > t_crit), \n",
    "    where t_crit is the critical statistic.\n",
    "    In the case of a one sided test, it returns Pr(t > t_crit) or Pr(t < t_crit).\n",
    "\n",
    "    :param nSampleMean: sample mean;\n",
    "    :param nPopulationMean: population mean (hypothesis);\n",
    "    :param nVariance: variance of the population or sample;\n",
    "    :param nSampleSize: size of the sample;\n",
    "    :param bKnownVariance: boolean; do we know the population variance? Affects whether a T or Z-test is performed;\n",
    "    :param sType: string; bi or monocaudal test? If monocaudal, specify 'greater' or 'less';\n",
    "    :param nSignificance: significance level of the test;\n",
    "    \"\"\"\n",
    "    # Defining dictionaries with graphing functions\n",
    "    listGraph = [\n",
    "        stats.norm.pdf,\n",
    "        stats.t.pdf\n",
    "    ]\n",
    "    listParameters = [\n",
    "        dict(loc=0, scale=1),\n",
    "        dict(df=nSampleSize - 1)\n",
    "    ]\n",
    "\n",
    "    # Bessel-correcting variance (if needed)\n",
    "    nVariance = nVariance if bKnownVariance else nVariance * (nSampleSize) / (nSampleSize - 1)\n",
    "\n",
    "    # Calculating t-statistic\n",
    "    t = (nSampleMean - nPopulationMean) / (nVariance / nSampleSize) ** (1 / 2)\n",
    "\n",
    "    # Calculating critical statistic and p-value\n",
    "    if bKnownVariance:\n",
    "        ## Values\n",
    "        t_crit = stats.norm.ppf(1 - nSignificance / 2)\n",
    "        p = 2*(1 - stats.norm.cdf(t_crit)) if sType == 'two-sided' else 1 - stats.norm.cdf(t_crit)\n",
    "\n",
    "        ## Adjusting for monocaudal cases\n",
    "        if (nSampleMean < nPopulationMean and sType == 'greater') or (nSampleMean > nPopulationMean and sType == 'less'):\n",
    "            p = 1 - p\n",
    "\n",
    "        ## Graph\n",
    "        funcGraph = listGraph[0]\n",
    "        dictParameters = listParameters[0]\n",
    "    else:\n",
    "        ## Values\n",
    "        nDF = nSampleSize - 1\n",
    "        t_crit = stats.t.ppf(1 - nSignificance / 2, df=nDF)\n",
    "        p = 2*(1 - stats.t.cdf(t_crit, df=nDF)) if sType == 'two-sided' else 1 - stats.t.cdf(t_crit, df=nDF)\n",
    "\n",
    "        ## Adjusting for monocaudal cases\n",
    "        if (nSampleMean < nPopulationMean and sType == 'greater') or (nSampleMean > nPopulationMean and sType == 'less'):\n",
    "            p = 1 - p\n",
    "\n",
    "        ## Graph\n",
    "        funcGraph = listGraph[1]\n",
    "        dictParameters = listParameters[1]\n",
    "\n",
    "    # Printing results\n",
    "    sResult = \"H0 is rejected.\" if round(p, 3) <= nSignificance else \"H0 can't be rejected.\"\n",
    "    print(f\"The t-statistic is {round(t, 2)} (critical: {round(t_crit, 2)}).\")\n",
    "    print(f\"The p-value is {round(p, 3)} and, therefore, {sResult}\")\n",
    "\n",
    "    # Graphing\n",
    "    ## Axis\n",
    "    arrX = np.linspace(-4, 4, 100)\n",
    "    arrY = funcGraph(arrX, **dictParameters)\n",
    "\n",
    "    ## Distribution\n",
    "    plt.plot(arrX, arrY)\n",
    "\n",
    "    ## Dashed Lines\n",
    "    plt.annotate(text=f\"t = {round(t, 2)}\", xy=(t + 0.05, 0.38), size=10)\n",
    "    if sType == 'two-sided':\n",
    "        plt.vlines(x=[t, -t], ymin=0, ymax=.4, \n",
    "                   linestyles='dashed', colors='darkgray')\n",
    "    else:\n",
    "        plt.vlines(x=t, ymin=0, ymax=.4, \n",
    "                   linestyles='dashed', colors='darkgray')\n",
    "\n",
    "    ### Filled Area\n",
    "    if sType == 'two-sided':\n",
    "        plt.fill_between(x=arrX, y1=arrY, color='red', alpha=.2, \n",
    "                        where=abs(arrX) >= abs(t))\n",
    "    elif sType == 'greater':\n",
    "        plt.fill_between(x=arrX, y1=arrY, color='red', alpha=.2, \n",
    "                        where=arrX >= t)\n",
    "    else:\n",
    "        plt.fill_between(x=arrX, y1=arrY, color='red', alpha=.2, \n",
    "                        where=arrX <= t)\n",
    "\n",
    "    ## Título\n",
    "    sDistribution = \"Normal\" if bKnownVariance else f\"T-Student with {nDF} Degrees of Freedom\"\n",
    "    plt.title(f\"Hypothesis Test: {sDistribution}\", size=13, fontweight='bold')\n",
    "    plt.tight_layout()"
   ]
  },
  {
   "cell_type": "code",
   "execution_count": 101,
   "metadata": {},
   "outputs": [
    {
     "name": "stdout",
     "output_type": "stream",
     "text": [
      "The t-statistic is -1.97 (critical: 2.02).\n",
      "The p-value is 0.05 and, therefore, H0 is rejected.\n"
     ]
    },
    {
     "data": {
      "image/png": "[encoded data removed]",
      "text/plain": [
       "<Figure size 432x288 with 1 Axes>"
      ]
     },
     "metadata": {},
     "output_type": "display_data"
    }
   ],
   "source": [
    "hypothesis_test(nSampleMean=520, \n",
    "                nPopulationMean=530, \n",
    "                nVariance=1000, \n",
    "                nSampleSize=40, \n",
    "                bKnownVariance=False, \n",
    "                sType='two-sided')"
   ]
  }
 ],
 "metadata": {
  "kernelspec": {
   "display_name": "Python 3",
   "language": "python",
   "name": "python3"
  },
  "language_info": {
   "codemirror_mode": {
    "name": "ipython",
    "version": 3
   },
   "file_extension": ".py",
   "mimetype": "text/x-python",
   "name": "python",
   "nbconvert_exporter": "python",
   "pygments_lexer": "ipython3",
   "version": "3.9.7"
  },
  "orig_nbformat": 2
 },
 "nbformat": 4,
 "nbformat_minor": 2
}
